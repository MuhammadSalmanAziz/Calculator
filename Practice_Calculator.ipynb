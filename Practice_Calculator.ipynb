{
  "nbformat": 4,
  "nbformat_minor": 0,
  "metadata": {
    "colab": {
      "provenance": [],
      "authorship_tag": "ABX9TyNmvaNIAQeBRCNPdGCtDWw5",
      "include_colab_link": true
    },
    "kernelspec": {
      "name": "python3",
      "display_name": "Python 3"
    },
    "language_info": {
      "name": "python"
    }
  },
  "cells": [
    {
      "cell_type": "markdown",
      "metadata": {
        "id": "view-in-github",
        "colab_type": "text"
      },
      "source": [
        "<a href=\"https://colab.research.google.com/github/MuhammadSalmanAziz/Calculator/blob/main/Practice_Calculator.ipynb\" target=\"_parent\"><img src=\"https://colab.research.google.com/assets/colab-badge.svg\" alt=\"Open In Colab\"/></a>"
      ]
    },
    {
      "cell_type": "code",
      "execution_count": 1,
      "metadata": {
        "colab": {
          "base_uri": "https://localhost:8080/"
        },
        "id": "hoHh19UuQXQp",
        "outputId": "66fbe888-e268-4901-9afc-48b8b475d443"
      },
      "outputs": [
        {
          "name": "stdout",
          "output_type": "stream",
          "text": [
            "Select an operation:\n",
            "1. Addition (+)\n",
            "2. Subtraction (-)\n",
            "3. Multiplication (*)\n",
            "4. Division (/)\n",
            "Enter choice (1/2/3/4): 1\n",
            "Enter first number: 10\n",
            "Enter second number: 30\n",
            "The result is: 40.0\n",
            "Do you want to perform another calculation? (yes/no): yes\n",
            "Select an operation:\n",
            "1. Addition (+)\n",
            "2. Subtraction (-)\n",
            "3. Multiplication (*)\n",
            "4. Division (/)\n",
            "Enter choice (1/2/3/4): 3\n",
            "Enter first number: 50\n",
            "Enter second number: 3\n",
            "The result is: 150.0\n",
            "Do you want to perform another calculation? (yes/no): no\n"
          ]
        }
      ],
      "source": [
        "# Function to display the operations menu\n",
        "def display_menu():\n",
        "    print(\"Select an operation:\")\n",
        "    print(\"1. Addition (+)\")\n",
        "    print(\"2. Subtraction (-)\")\n",
        "    print(\"3. Multiplication (*)\")\n",
        "    print(\"4. Division (/)\")\n",
        "\n",
        "# Function to perform the calculation\n",
        "def calculator():\n",
        "    while True:\n",
        "        display_menu()\n",
        "        choice = input(\"Enter choice (1/2/3/4): \")\n",
        "\n",
        "        if choice in ['1', '2', '3', '4']:\n",
        "            try:\n",
        "                num1 = float(input(\"Enter first number: \"))\n",
        "                num2 = float(input(\"Enter second number: \"))\n",
        "\n",
        "                if choice == '1':\n",
        "                    print(f\"The result is: {num1 + num2}\")\n",
        "                elif choice == '2':\n",
        "                    print(f\"The result is: {num1 - num2}\")\n",
        "                elif choice == '3':\n",
        "                    print(f\"The result is: {num1 * num2}\")\n",
        "                elif choice == '4':\n",
        "                    if num2 != 0:\n",
        "                        print(f\"The result is: {num1 / num2}\")\n",
        "                    else:\n",
        "                        print(\"Error: Division by zero is not allowed.\")\n",
        "\n",
        "            except ValueError:\n",
        "                print(\"Invalid input. Please enter numbers only.\")\n",
        "        else:\n",
        "            print(\"Invalid choice. Please select a valid operation.\")\n",
        "\n",
        "        # Ask if user wants to perform another calculation\n",
        "        next_calculation = input(\"Do you want to perform another calculation? (yes/no): \")\n",
        "        if next_calculation.lower() != 'yes':\n",
        "            break\n",
        "\n",
        "# Run the calculator\n",
        "calculator()\n"
      ]
    }
  ]
}